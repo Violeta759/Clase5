{
  "cells": [
    {
      "cell_type": "markdown",
      "metadata": {
        "id": "view-in-github",
        "colab_type": "text"
      },
      "source": [
        "<a href=\"https://colab.research.google.com/github/Violeta759/Clase5/blob/main/Gru.ipynb\" target=\"_parent\"><img src=\"https://colab.research.google.com/assets/colab-badge.svg\" alt=\"Open In Colab\"/></a>"
      ]
    },
    {
      "cell_type": "markdown",
      "metadata": {
        "id": "m_kY8a5rr5qC"
      },
      "source": [
        "[Yahoo finance](https://finance.yahoo.com/)\n",
        "\n",
        "Librería:[yfinance](https://algotrading101.com/learn/yfinance-guide/)"
      ]
    },
    {
      "cell_type": "code",
      "execution_count": null,
      "metadata": {
        "id": "U3zKcC8XtEnq"
      },
      "outputs": [],
      "source": [
        "!pip install -U yfinance pandas_datareader"
      ]
    },
    {
      "cell_type": "markdown",
      "metadata": {
        "id": "4Mad_HUVxyXd"
      },
      "source": [
        "# Datos: Serie multivariante.\n",
        "\n",
        "Valor de cierre del IBEX, BBVA y TELEFÓNICA(TEF)."
      ]
    },
    {
      "cell_type": "code",
      "execution_count": null,
      "metadata": {
        "id": "WxaB4kY0tofH"
      },
      "outputs": [],
      "source": [
        "import pandas as pd\n",
        "import yfinance as yf\n",
        "from pandas_datareader import data as pdr"
      ]
    },
    {
      "cell_type": "code",
      "execution_count": null,
      "metadata": {
        "id": "yBeJELUotfza"
      },
      "outputs": [],
      "source": [
        "yf.pdr_override() # <== that's all it takes :-)\n",
        "data = yf.download(\"BBVA TEF ^IBEX\", start=\"2020-01-01\", end=\"2020-10-30\")\n",
        "data.head()"
      ]
    },
    {
      "cell_type": "markdown",
      "metadata": {
        "id": "MGY27dKa2rED"
      },
      "source": [
        "Para quitar los **NAN** sin tener que eliminarlos (porque a veces son importantes), les danis un valor. En este caso el valor se lo damos a partir de una interpolación lineal. \n",
        "\n",
        "(Hay muchas formas de darles valores)."
      ]
    },
    {
      "cell_type": "code",
      "execution_count": null,
      "metadata": {
        "id": "T4FWtRV72rED"
      },
      "outputs": [],
      "source": [
        "d=data.loc[:,'Close'].interpolate(limit=2, limit_direction='backward') \n",
        "d.head()"
      ]
    },
    {
      "cell_type": "markdown",
      "metadata": {
        "id": "q3UO3lLZvASE"
      },
      "source": [
        "## IBEX depende de la semana anterior de BBVA y TELFÓNICA:"
      ]
    },
    {
      "cell_type": "code",
      "execution_count": null,
      "metadata": {
        "id": "TBrkN1U22rEE"
      },
      "outputs": [],
      "source": [
        "import numpy as np\n",
        "from sklearn.preprocessing import MinMaxScaler\n",
        "from sklearn.model_selection import train_test_split\n",
        "\n",
        "#Escalanos los datos\n",
        "dScale = MinMaxScaler()\n",
        "dScale.fit(d.values)\n",
        "ldatos=dScale.transform(d.values)"
      ]
    },
    {
      "cell_type": "code",
      "execution_count": null,
      "metadata": {
        "id": "OHqgO4DM2rEF"
      },
      "outputs": [],
      "source": [
        "pd.DataFrame(ldatos,columns=['BBVA','TEF','^IBEX']).plot(figsize=(15,5))"
      ]
    },
    {
      "cell_type": "code",
      "execution_count": null,
      "metadata": {
        "id": "NdwQbcIp2rEF"
      },
      "outputs": [],
      "source": [
        "X,Y=ldatos[:,0:2],ldatos[:,2]\n",
        "#ldatos[:,0:2] -> De cada fila quiero las columnas 0-1-2."
      ]
    },
    {
      "cell_type": "code",
      "execution_count": null,
      "metadata": {
        "id": "PTbZ91vZ9tiv"
      },
      "outputs": [],
      "source": [
        "def windowData(Xi,Yi,window_input=1,window_output=1,step=1):\n",
        "  Xaux=[]\n",
        "  Yaux=[]\n",
        "  #Datos necesarios:\n",
        "  dn=window_input+window_output\n",
        "  #Calcular cuantos pasos completos podemos realizar, sin contar el último bloque [input,output].\n",
        "  ld=int((len(Xi)-dn)/step)*step\n",
        "  for i in range(len(Xi)-ld-1,len(Xi)-dn,step):\n",
        "    Xaux.append(Xi[i:i+window_input])\n",
        "    Yaux.append(Yi[i+window_input:i+dn])\n",
        "  return Xaux,Yaux"
      ]
    },
    {
      "cell_type": "code",
      "execution_count": null,
      "metadata": {
        "id": "nkai0YWG1QiW"
      },
      "outputs": [],
      "source": [
        "#Contruimos los conjunto de datos X e Y:\n",
        "Xw,Yw=windowData(X,Y,window_input=20,window_output=1,step=1)\n",
        "Xw,Yw=np.array(Xw),np.array(Yw)\n",
        "Xw.shape\n",
        "#Cada elemento de esos 20 van a ser dos valores (los de BBVA y Telefónica)."
      ]
    },
    {
      "cell_type": "markdown",
      "source": [
        "Ya tenemos los datos de entrada construidos."
      ],
      "metadata": {
        "id": "i16xqbRBCYHM"
      }
    },
    {
      "cell_type": "markdown",
      "metadata": {
        "id": "I4iLDwKJpKIq"
      },
      "source": [
        "## Librerías necesarias:\n",
        "- [Keras](https://keras.io/).\n",
        "- [Tensorflow](https://www.tensorflow.org/)."
      ]
    },
    {
      "cell_type": "code",
      "execution_count": null,
      "metadata": {
        "id": "NcunIHLYpodt"
      },
      "outputs": [],
      "source": [
        "from tensorflow import keras\n",
        "from tensorflow.keras.models import Sequential\n",
        "from tensorflow.keras.layers import Dense,GRU\n",
        "from tensorflow.keras import metrics"
      ]
    },
    {
      "cell_type": "markdown",
      "metadata": {
        "id": "JdDwd3YiqiPw"
      },
      "source": [
        "## Definimos la Red:\n",
        "\n",
        "Definimos nuestro perceptron con las siguientes capas (**layers**):\n",
        "- Modelo secuencial [Sequential](https://keras.io/api/models/sequential/).\n",
        "- Capa de entrada: [GRU](https://keras.io/api/layers/recurrent_layers/gru/).\n",
        "- Capa Densa: [Dense](https://keras.io/api/layers/core_layers/dense/) .\n",
        "\n",
        "La capa **SimpleRNN** define una unidad recurente con **unit** neuronas de salida y una entrada de **input_shape**."
      ]
    },
    {
      "cell_type": "markdown",
      "metadata": {
        "id": "tc1K3OMe2rEH"
      },
      "source": [
        "**Recurrente básica**:"
      ]
    },
    {
      "cell_type": "code",
      "execution_count": null,
      "metadata": {
        "id": "n9RFtiTq2rEH"
      },
      "outputs": [],
      "source": [
        "gru = Sequential()\n",
        "gru.add(GRU(units=34, activation='relu',input_shape=(20,2))) #añadimos una capa de recurrencia. Función de activación -> activation.\n",
        "gru.add(Dense(1))\n",
        "gru.compile(loss='mean_squared_error', optimizer='rmsprop')\n",
        "gru.summary()"
      ]
    },
    {
      "cell_type": "markdown",
      "source": [
        "Cuantos menos datos entrenemos más rápido. \n",
        "(Non-trainable params: 0)."
      ],
      "metadata": {
        "id": "1aMpdJ9sD0lY"
      }
    },
    {
      "cell_type": "code",
      "execution_count": null,
      "metadata": {
        "id": "uJqvqoKLqrMj",
        "scrolled": true
      },
      "outputs": [],
      "source": [
        "h=gru.fit(Xw,Yw,validation_split=0.30, epochs=15,batch_size=14)"
      ]
    },
    {
      "cell_type": "code",
      "execution_count": null,
      "metadata": {
        "id": "gp9q8fWerORA"
      },
      "outputs": [],
      "source": [
        "import matplotlib.pyplot as plt\n",
        "plt.plot(h.history['loss'])\n",
        "plt.plot(h.history['val_loss'])\n",
        "plt.title('model loss')\n",
        "plt.ylabel('loss')\n",
        "plt.xlabel('epoch')\n",
        "plt.legend(['train', 'test'], loc='upper left')\n",
        "plt.show()"
      ]
    },
    {
      "cell_type": "markdown",
      "source": [
        "Esto sale porque tenemos pocas épocas (antes apróx. 100 épocas, y ahora 15), pero aún así obtenemos buenos resultados. "
      ],
      "metadata": {
        "id": "g7hcf3NWEGhS"
      }
    },
    {
      "cell_type": "markdown",
      "metadata": {
        "id": "wE8d-FyYxZUf"
      },
      "source": [
        "## Utilizamos la red:\n",
        "Utilizar el perceptron aprendido con el método [**predict**](https://keras.io/api/models/model_training_apis/#predict-method)."
      ]
    },
    {
      "cell_type": "code",
      "execution_count": null,
      "metadata": {
        "id": "eRzCvdbZwZ6k"
      },
      "outputs": [],
      "source": [
        "Y0=gru.predict(Xw)"
      ]
    },
    {
      "cell_type": "code",
      "execution_count": null,
      "metadata": {
        "id": "Unxa4WnnwoFo"
      },
      "outputs": [],
      "source": [
        "pd.DataFrame(np.hstack([Yw,Y0]),columns=['P','R']).plot(figsize=(15,5))"
      ]
    },
    {
      "cell_type": "markdown",
      "source": [
        "(Predice el valor del IBEX según los valores de Telefónica y BBVA de los 20 días anteriores).\n",
        "\n",
        "Aquí se ven muy bien las tendencias, son resultados más suaves que los anteriores. Depende de nuestros objetivos un modelo es bueno o es malo. Por lo que en comparación con los otros modelos, aunque este generalice más, no es malo."
      ],
      "metadata": {
        "id": "zPeFZNcXES-w"
      }
    },
    {
      "cell_type": "markdown",
      "metadata": {
        "id": "2PxjNviiy-W1"
      },
      "source": [
        "## Salvar y Cargar Redes:\n",
        "- Salvar mediante el método [**save**](https://keras.io/api/models/model_saving_apis/#save-method).\n",
        "- Recuperar un modelo con el método [**load_model**](keras.models.load_model).\n",
        "\n",
        "(Guardo mi red)."
      ]
    },
    {
      "cell_type": "code",
      "execution_count": null,
      "metadata": {
        "id": "Q4lQ3vSOzGCx"
      },
      "outputs": [],
      "source": [
        "gru.save('gru.h5')\n",
        "gru2=keras.models.load_model('gru.h5')"
      ]
    }
  ],
  "metadata": {
    "celltoolbar": "Slideshow",
    "colab": {
      "private_outputs": true,
      "provenance": [],
      "include_colab_link": true
    },
    "kernelspec": {
      "display_name": "NN",
      "language": "python",
      "name": "nn"
    },
    "language_info": {
      "codemirror_mode": {
        "name": "ipython",
        "version": 3
      },
      "file_extension": ".py",
      "mimetype": "text/x-python",
      "name": "python",
      "nbconvert_exporter": "python",
      "pygments_lexer": "ipython3",
      "version": "3.8.5"
    }
  },
  "nbformat": 4,
  "nbformat_minor": 0
}